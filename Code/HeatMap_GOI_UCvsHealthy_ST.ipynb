{
  "cells": [
    {
      "cell_type": "code",
      "execution_count": null,
      "metadata": {
        "id": "2hTRczVEfQaM",
        "colab": {
          "base_uri": "https://localhost:8080/"
        },
        "outputId": "3d678559-3b27-4b1b-b7b9-eba993d88c10"
      },
      "outputs": [
        {
          "output_type": "stream",
          "name": "stdout",
          "text": [
            "Collecting fastcluster\n",
            "  Downloading fastcluster-1.2.6-cp310-cp310-manylinux_2_5_x86_64.manylinux1_x86_64.manylinux_2_17_x86_64.manylinux2014_x86_64.whl (194 kB)\n",
            "\u001b[2K     \u001b[90m━━━━━━━━━━━━━━━━━━━━━━━━━━━━━━━━━━━━━━━━\u001b[0m \u001b[32m194.0/194.0 kB\u001b[0m \u001b[31m1.0 MB/s\u001b[0m eta \u001b[36m0:00:00\u001b[0m\n",
            "\u001b[?25hRequirement already satisfied: numpy>=1.9 in /usr/local/lib/python3.10/dist-packages (from fastcluster) (1.25.2)\n",
            "Installing collected packages: fastcluster\n",
            "Successfully installed fastcluster-1.2.6\n",
            "Mounted at /content/drive\n"
          ]
        }
      ],
      "source": [
        "#Ongoing list of imports/packages\n",
        "import scipy as sp\n",
        "from pylab import *\n",
        "import numpy as np\n",
        "from matplotlib import pyplot as plt\n",
        "from matplotlib import colormaps\n",
        "import networkx as nx\n",
        "import seaborn as sns\n",
        "import collections\n",
        "from IPython.display import clear_output\n",
        "import random\n",
        "from scipy.stats import mannwhitneyu\n",
        "import pandas as pd\n",
        "from google.colab import drive\n",
        "from scipy import stats\n",
        "from scipy.cluster.hierarchy import linkage, dendrogram, fcluster, cophenet\n",
        "from scipy.spatial.distance import pdist\n",
        "import math\n",
        "from sklearn.preprocessing import StandardScaler\n",
        "from sklearn.decomposition import PCA\n",
        "from sklearn.impute import SimpleImputer\n",
        "from sklearn.ensemble import RandomForestClassifier\n",
        "from sklearn.model_selection import train_test_split\n",
        "from sklearn.metrics import accuracy_score, classification_report, confusion_matrix\n",
        "from sklearn.cluster import KMeans\n",
        "from sklearn.preprocessing import LabelEncoder\n",
        "from sklearn.metrics import adjusted_rand_score\n",
        "from sklearn.tree import plot_tree\n",
        "from sklearn.metrics import silhouette_score\n",
        "from sklearn.metrics import calinski_harabasz_score\n",
        "from sklearn.metrics import davies_bouldin_score\n",
        "from sklearn.metrics import accuracy_score\n",
        "from scipy.stats import ttest_ind\n",
        "from scipy.stats import shapiro\n",
        "import datetime\n",
        "!pip install fastcluster\n",
        "import fastcluster\n",
        "\n",
        "\n",
        "drive.mount('/content/drive')"
      ]
    },
    {
      "cell_type": "markdown",
      "metadata": {
        "id": "1j2T9G8p2FhH"
      },
      "source": [
        "## Data cleaning and reorganization from GEO accession\n",
        "### Following the GEO accession there are two files. One file we are assuming comes from the manufacturer of the RNA microarray or as a read out has an index, NM ID, common gene abbreviation, full name of gene, GO accession and probe sequences. The second file has indexes and result values by patient. This also includes metadata on the patients.\n",
        "\n",
        "###After uploading the .txt files. Metadata was removed and the files were merged so the final dataset has the corresponding NM IDs, index value, gene abb, and patient samples expression values.\n",
        "\n",
        "###The next file contains all of the phenotypic data from the samples (there can be multiple samples from a patient)\n"
      ]
    },
    {
      "cell_type": "code",
      "execution_count": null,
      "metadata": {
        "id": "jliAUWCPzQ26",
        "colab": {
          "base_uri": "https://localhost:8080/"
        },
        "outputId": "ec1ac88a-9e45-444d-a8d0-dfd6fd5fd33e"
      },
      "outputs": [
        {
          "output_type": "stream",
          "name": "stderr",
          "text": [
            "<ipython-input-2-d8984220ce3d>:8: DtypeWarning: Columns (0,1,2,3,4,5,6,7,8,9,10,11,12,13,14,15,16,17,18,19,20,21,22,23,24,25,26,27,28,29,30,31,32,33,34,35,36,37,38,39,40,41,42,43,44,45,46,47,48,49,50,51,52,53,54,55,56,57,58,59,60,61,62,63,64,65,66,67,68,69,70,71,72,73,74,75,76,77,78,79,80,81,82,83,84,85,86,87,88,89,90,91,92,93,94,95,96,97,98,99,100,101,102,103,104,105,106,107,108,109,110,111,112,113,114,115,116,117,118,119,120,121,122,123,124,125,126,127,128,129,130,131,132,133,134,135,136,137,138,139,140,141,142,143,144,145,146,147,148,149,150,151,152,153,154,155,156,157,158,159,160,161,162,163,164,165,166,167,168,169,170,171,172,173,174,175,176,177,178,179,180,181,182,183,184,185,186,187,188,189,190,191,192,193,194,195,196,197,198,199,200,201,202) have mixed types. Specify dtype option on import or set low_memory=False.\n",
            "  raw_file = pd.read_csv(file_path, delimiter='\\t', skiprows=50, header=0)\n"
          ]
        }
      ],
      "source": [
        "#uploading GEO accesion data\n",
        "##Might have to change the file path\n",
        "file_path = '/content/drive/MyDrive/20440_Project/GSE11223_series_matrix.txt'\n",
        "\n",
        "\n",
        "\n",
        "#converting txt to data frame (removing metadata)\n",
        "raw_file = pd.read_csv(file_path, delimiter='\\t', skiprows=50, header=0)\n",
        "\n",
        "\n",
        "\n",
        "#uploading Microarray GeneID data probes\n",
        "#might have to change the file path\n",
        "file_path = '/content/drive/MyDrive/20440_Project/GeneID_Probes.txt'\n",
        "\n",
        "\n",
        "#converting txt to data frame\n",
        "ID_raw = pd.read_csv(file_path, delimiter='\\t', header = None)\n"
      ]
    },
    {
      "cell_type": "code",
      "execution_count": null,
      "metadata": {
        "id": "GMDFNBQrGs2w"
      },
      "outputs": [],
      "source": [
        "#extracting ID_ref, NM_... ID, and Gene Names\n",
        "ID_abb = ID_raw.iloc[:,[0,3,9]]\n",
        "Column_names = ['ID_REF', 'NM_ID', 'GeneID']\n",
        "ID_abb.columns = Column_names\n",
        "#making sure everything is same dtype before merge\n",
        "ID_abb.loc[:, 'ID_REF']=ID_abb.loc[:, \"ID_REF\"].astype(str)\n",
        "ID_abb.loc[:, 'NM_ID']=ID_abb.loc[:, \"NM_ID\"].astype(str)\n",
        "ID_abb.loc[:, 'GeneID']=ID_abb.loc[:, \"GeneID\"].astype(str)\n",
        "#Replacing GeneID with NM_ID if blank\n",
        "for index, row in ID_abb.iterrows():\n",
        "  if row['GeneID']== 'nan':\n",
        "    ID_abb.at[index, 'GeneID'] = row['NM_ID']\n",
        "\n",
        "#Renaming ID_REF column on raw data\n",
        "column = list(raw_file.columns)\n",
        "raw_file.rename(columns= {column[0]: 'ID_REF'}, inplace = True)\n",
        "#making sure everything is same dtype before merge\n",
        "raw_file.loc[:, 'ID_REF'] = raw_file.loc[:, 'ID_REF'].astype(str)\n",
        "#replacing NaN values with 0\n",
        "raw_file = raw_file.fillna(0)\n",
        "\n",
        "#adding NM_... ID and Gene Names to patient values\n",
        "merged_df = pd.merge(raw_file, ID_abb, on='ID_REF', how ='left')\n",
        "\n",
        "#extracting the name of the columns\n",
        "column_names = list(merged_df.columns)\n",
        "\n",
        "#adding NM_ID, GeneID to front of df\n",
        "new_order = column_names[-2:] + column_names[:-2]\n",
        "merged_df_reorg = merged_df[new_order]"
      ]
    },
    {
      "cell_type": "code",
      "execution_count": null,
      "metadata": {
        "id": "6i3bCXSTmuIf"
      },
      "outputs": [],
      "source": [
        "#uploading sample metadata\n",
        "\n",
        "\n",
        "#might have to change file path\n",
        "file_path = '/content/drive/MyDrive/20440_Project/GSE11223_newPheno.txt'\n",
        "\n",
        "\n",
        "\n",
        "#converting txt to data frame\n",
        "sample_info = pd.read_csv(file_path, delimiter='\\t')\n",
        "print(sample_info.info())"
      ]
    },
    {
      "cell_type": "markdown",
      "metadata": {
        "id": "D0PDa-t-ma1A"
      },
      "source": [
        "## Data manipulation\n",
        "### According to Nobel et al the data has already been normalized and therefore we can go straight into the clustering procedure. We are going to perform heirarchical clustering using a variety of parameters and evaluators.  "
      ]
    },
    {
      "cell_type": "code",
      "execution_count": null,
      "metadata": {
        "colab": {
          "background_save": true,
          "base_uri": "https://localhost:8080/"
        },
        "id": "FDYNkAP1lO_8",
        "outputId": "b154fceb-3f05-4653-b698-b8d16f997373"
      },
      "outputs": [
        {
          "name": "stdout",
          "output_type": "stream",
          "text": [
            "                                       89        90         91        92     \\\n",
            "Normal Uninflamed sigmoid colon     0.038661  -0.13288  -0.042229  -0.21233   \n",
            "Normal Uninflamed sigmoid colon.1   -0.10887  -0.10885   0.042197  -0.23983   \n",
            "Normal Uninflamed sigmoid colon.2   -0.04431  -0.13558   0.017986  -0.33934   \n",
            "Normal Uninflamed sigmoid colon.3  -0.033416  -0.11883   0.063459  -0.31396   \n",
            "Normal Uninflamed sigmoid colon.4  -0.043601  -0.16435    0.07202   -0.4359   \n",
            "\n",
            "                                      93         94         95       96     \\\n",
            "Normal Uninflamed sigmoid colon           0   0.034649   0.028586  0.15138   \n",
            "Normal Uninflamed sigmoid colon.1  -0.11532   0.014877  -0.042214  0.21129   \n",
            "Normal Uninflamed sigmoid colon.2  -0.44221  -0.054095   0.031149  0.19592   \n",
            "Normal Uninflamed sigmoid colon.3  -0.24953  -0.058241  -0.057668  0.21552   \n",
            "Normal Uninflamed sigmoid colon.4  -0.44009  -0.083175   -0.08265  0.23526   \n",
            "\n",
            "                                      97         98     ...     41070  \\\n",
            "Normal Uninflamed sigmoid colon    -0.26825          0  ...   0.35015   \n",
            "Normal Uninflamed sigmoid colon.1  -0.47905  -0.032859  ...  -0.23985   \n",
            "Normal Uninflamed sigmoid colon.2  -0.32326   -0.27542  ... -0.036741   \n",
            "Normal Uninflamed sigmoid colon.3  -0.34305   0.059959  ...  -0.16487   \n",
            "Normal Uninflamed sigmoid colon.4  -0.45901   -0.34126  ...  -0.18463   \n",
            "\n",
            "                                     41071     41072    41073     41074  \\\n",
            "Normal Uninflamed sigmoid colon    0.10406   0.16011 -0.43621  0.084885   \n",
            "Normal Uninflamed sigmoid colon.1  0.10573  0.087685  -0.3875   0.04983   \n",
            "Normal Uninflamed sigmoid colon.2  0.12149 -0.007668 -0.53987   -0.2208   \n",
            "Normal Uninflamed sigmoid colon.3  0.19855  0.092785 -0.55846  -0.32779   \n",
            "Normal Uninflamed sigmoid colon.4  0.12446   0.13208  -0.5404 -0.056164   \n",
            "\n",
            "                                      41075     41076     41077     41078  \\\n",
            "Normal Uninflamed sigmoid colon     0.14666         0  -0.37123 -0.017971   \n",
            "Normal Uninflamed sigmoid colon.1  0.063171         0  0.091402  0.008678   \n",
            "Normal Uninflamed sigmoid colon.2   0.13495  0.006852 -0.076405   0.10668   \n",
            "Normal Uninflamed sigmoid colon.3  0.078462         0   0.37646   0.02139   \n",
            "Normal Uninflamed sigmoid colon.4  0.051566  0.041451    0.1644 -0.009987   \n",
            "\n",
            "                                    41079  \n",
            "Normal Uninflamed sigmoid colon   -1.4688  \n",
            "Normal Uninflamed sigmoid colon.1 -1.4571  \n",
            "Normal Uninflamed sigmoid colon.2 -1.3839  \n",
            "Normal Uninflamed sigmoid colon.3 -1.3254  \n",
            "Normal Uninflamed sigmoid colon.4 -1.6695  \n",
            "\n",
            "[5 rows x 40991 columns]\n"
          ]
        },
        {
          "ename": "KeyboardInterrupt",
          "evalue": "",
          "output_type": "error",
          "traceback": [
            "\u001b[0;31m---------------------------------------------------------------------------\u001b[0m",
            "\u001b[0;31mKeyboardInterrupt\u001b[0m                         Traceback (most recent call last)",
            "\u001b[0;32m<ipython-input-182-948ddbd7a8b6>\u001b[0m in \u001b[0;36m<cell line: 6>\u001b[0;34m()\u001b[0m\n\u001b[1;32m      4\u001b[0m \u001b[0mprint\u001b[0m\u001b[0;34m(\u001b[0m\u001b[0mSample_type_ex\u001b[0m\u001b[0;34m.\u001b[0m\u001b[0mhead\u001b[0m\u001b[0;34m(\u001b[0m\u001b[0;34m)\u001b[0m\u001b[0;34m)\u001b[0m\u001b[0;34m\u001b[0m\u001b[0;34m\u001b[0m\u001b[0m\n\u001b[1;32m      5\u001b[0m \u001b[0;34m\u001b[0m\u001b[0m\n\u001b[0;32m----> 6\u001b[0;31m \u001b[0mheatmap\u001b[0m \u001b[0;34m=\u001b[0m \u001b[0msns\u001b[0m\u001b[0;34m.\u001b[0m\u001b[0mclustermap\u001b[0m\u001b[0;34m(\u001b[0m\u001b[0mSample_type_ex\u001b[0m\u001b[0;34m.\u001b[0m\u001b[0mapply\u001b[0m\u001b[0;34m(\u001b[0m\u001b[0mpd\u001b[0m\u001b[0;34m.\u001b[0m\u001b[0mto_numeric\u001b[0m\u001b[0;34m,\u001b[0m \u001b[0merrors\u001b[0m\u001b[0;34m=\u001b[0m\u001b[0;34m'coerce'\u001b[0m\u001b[0;34m)\u001b[0m\u001b[0;34m,\u001b[0m \u001b[0mcmap\u001b[0m\u001b[0;34m=\u001b[0m\u001b[0;34m'viridis'\u001b[0m\u001b[0;34m,\u001b[0m \u001b[0mstandard_scale\u001b[0m\u001b[0;34m=\u001b[0m\u001b[0;36m1\u001b[0m\u001b[0;34m)\u001b[0m\u001b[0;34m\u001b[0m\u001b[0;34m\u001b[0m\u001b[0m\n\u001b[0m\u001b[1;32m      7\u001b[0m \u001b[0mplt\u001b[0m\u001b[0;34m.\u001b[0m\u001b[0mtitle\u001b[0m\u001b[0;34m(\u001b[0m\u001b[0;34m'Heatmap and Clustering of Normalized Expression Data and Sample IDs'\u001b[0m\u001b[0;34m)\u001b[0m\u001b[0;34m\u001b[0m\u001b[0;34m\u001b[0m\u001b[0m\n\u001b[1;32m      8\u001b[0m \u001b[0mheatmap\u001b[0m\u001b[0;34m.\u001b[0m\u001b[0max_heatmap\u001b[0m\u001b[0;34m.\u001b[0m\u001b[0mset_xlabel\u001b[0m\u001b[0;34m(\u001b[0m\u001b[0;34m\"GENE Expression Number\"\u001b[0m\u001b[0;34m)\u001b[0m\u001b[0;34m\u001b[0m\u001b[0;34m\u001b[0m\u001b[0m\n",
            "\u001b[0;32m/usr/local/lib/python3.10/dist-packages/seaborn/matrix.py\u001b[0m in \u001b[0;36mclustermap\u001b[0;34m(data, pivot_kws, method, metric, z_score, standard_scale, figsize, cbar_kws, row_cluster, col_cluster, row_linkage, col_linkage, row_colors, col_colors, mask, dendrogram_ratio, colors_ratio, cbar_pos, tree_kws, **kwargs)\u001b[0m\n\u001b[1;32m   1256\u001b[0m                           colors_ratio=colors_ratio, cbar_pos=cbar_pos)\n\u001b[1;32m   1257\u001b[0m \u001b[0;34m\u001b[0m\u001b[0m\n\u001b[0;32m-> 1258\u001b[0;31m     return plotter.plot(metric=metric, method=method,\n\u001b[0m\u001b[1;32m   1259\u001b[0m                         \u001b[0mcolorbar_kws\u001b[0m\u001b[0;34m=\u001b[0m\u001b[0mcbar_kws\u001b[0m\u001b[0;34m,\u001b[0m\u001b[0;34m\u001b[0m\u001b[0;34m\u001b[0m\u001b[0m\n\u001b[1;32m   1260\u001b[0m                         \u001b[0mrow_cluster\u001b[0m\u001b[0;34m=\u001b[0m\u001b[0mrow_cluster\u001b[0m\u001b[0;34m,\u001b[0m \u001b[0mcol_cluster\u001b[0m\u001b[0;34m=\u001b[0m\u001b[0mcol_cluster\u001b[0m\u001b[0;34m,\u001b[0m\u001b[0;34m\u001b[0m\u001b[0;34m\u001b[0m\u001b[0m\n",
            "\u001b[0;32m/usr/local/lib/python3.10/dist-packages/seaborn/matrix.py\u001b[0m in \u001b[0;36mplot\u001b[0;34m(self, metric, method, colorbar_kws, row_cluster, col_cluster, row_linkage, col_linkage, tree_kws, **kws)\u001b[0m\n\u001b[1;32m   1127\u001b[0m         \u001b[0mcolorbar_kws\u001b[0m \u001b[0;34m=\u001b[0m \u001b[0;34m{\u001b[0m\u001b[0;34m}\u001b[0m \u001b[0;32mif\u001b[0m \u001b[0mcolorbar_kws\u001b[0m \u001b[0;32mis\u001b[0m \u001b[0;32mNone\u001b[0m \u001b[0;32melse\u001b[0m \u001b[0mcolorbar_kws\u001b[0m\u001b[0;34m\u001b[0m\u001b[0;34m\u001b[0m\u001b[0m\n\u001b[1;32m   1128\u001b[0m \u001b[0;34m\u001b[0m\u001b[0m\n\u001b[0;32m-> 1129\u001b[0;31m         self.plot_dendrograms(row_cluster, col_cluster, metric, method,\n\u001b[0m\u001b[1;32m   1130\u001b[0m                               \u001b[0mrow_linkage\u001b[0m\u001b[0;34m=\u001b[0m\u001b[0mrow_linkage\u001b[0m\u001b[0;34m,\u001b[0m \u001b[0mcol_linkage\u001b[0m\u001b[0;34m=\u001b[0m\u001b[0mcol_linkage\u001b[0m\u001b[0;34m,\u001b[0m\u001b[0;34m\u001b[0m\u001b[0;34m\u001b[0m\u001b[0m\n\u001b[1;32m   1131\u001b[0m                               tree_kws=tree_kws)\n",
            "\u001b[0;32m/usr/local/lib/python3.10/dist-packages/seaborn/matrix.py\u001b[0m in \u001b[0;36mplot_dendrograms\u001b[0;34m(self, row_cluster, col_cluster, metric, method, row_linkage, col_linkage, tree_kws)\u001b[0m\n\u001b[1;32m    982\u001b[0m         \u001b[0;31m# PLot the column dendrogram\u001b[0m\u001b[0;34m\u001b[0m\u001b[0;34m\u001b[0m\u001b[0m\n\u001b[1;32m    983\u001b[0m         \u001b[0;32mif\u001b[0m \u001b[0mcol_cluster\u001b[0m\u001b[0;34m:\u001b[0m\u001b[0;34m\u001b[0m\u001b[0;34m\u001b[0m\u001b[0m\n\u001b[0;32m--> 984\u001b[0;31m             self.dendrogram_col = dendrogram(\n\u001b[0m\u001b[1;32m    985\u001b[0m                 \u001b[0mself\u001b[0m\u001b[0;34m.\u001b[0m\u001b[0mdata2d\u001b[0m\u001b[0;34m,\u001b[0m \u001b[0mmetric\u001b[0m\u001b[0;34m=\u001b[0m\u001b[0mmetric\u001b[0m\u001b[0;34m,\u001b[0m \u001b[0mmethod\u001b[0m\u001b[0;34m=\u001b[0m\u001b[0mmethod\u001b[0m\u001b[0;34m,\u001b[0m \u001b[0mlabel\u001b[0m\u001b[0;34m=\u001b[0m\u001b[0;32mFalse\u001b[0m\u001b[0;34m,\u001b[0m\u001b[0;34m\u001b[0m\u001b[0;34m\u001b[0m\u001b[0m\n\u001b[1;32m    986\u001b[0m                 \u001b[0maxis\u001b[0m\u001b[0;34m=\u001b[0m\u001b[0;36m1\u001b[0m\u001b[0;34m,\u001b[0m \u001b[0max\u001b[0m\u001b[0;34m=\u001b[0m\u001b[0mself\u001b[0m\u001b[0;34m.\u001b[0m\u001b[0max_col_dendrogram\u001b[0m\u001b[0;34m,\u001b[0m \u001b[0mlinkage\u001b[0m\u001b[0;34m=\u001b[0m\u001b[0mcol_linkage\u001b[0m\u001b[0;34m,\u001b[0m\u001b[0;34m\u001b[0m\u001b[0;34m\u001b[0m\u001b[0m\n",
            "\u001b[0;32m/usr/local/lib/python3.10/dist-packages/seaborn/matrix.py\u001b[0m in \u001b[0;36mdendrogram\u001b[0;34m(data, linkage, axis, label, metric, method, rotate, tree_kws, ax)\u001b[0m\n\u001b[1;32m    685\u001b[0m         \u001b[0;32mraise\u001b[0m \u001b[0mRuntimeError\u001b[0m\u001b[0;34m(\u001b[0m\u001b[0;34m\"dendrogram requires scipy to be installed\"\u001b[0m\u001b[0;34m)\u001b[0m\u001b[0;34m\u001b[0m\u001b[0;34m\u001b[0m\u001b[0m\n\u001b[1;32m    686\u001b[0m \u001b[0;34m\u001b[0m\u001b[0m\n\u001b[0;32m--> 687\u001b[0;31m     plotter = _DendrogramPlotter(data, linkage=linkage, axis=axis,\n\u001b[0m\u001b[1;32m    688\u001b[0m                                  \u001b[0mmetric\u001b[0m\u001b[0;34m=\u001b[0m\u001b[0mmetric\u001b[0m\u001b[0;34m,\u001b[0m \u001b[0mmethod\u001b[0m\u001b[0;34m=\u001b[0m\u001b[0mmethod\u001b[0m\u001b[0;34m,\u001b[0m\u001b[0;34m\u001b[0m\u001b[0;34m\u001b[0m\u001b[0m\n\u001b[1;32m    689\u001b[0m                                  label=label, rotate=rotate)\n",
            "\u001b[0;32m/usr/local/lib/python3.10/dist-packages/seaborn/matrix.py\u001b[0m in \u001b[0;36m__init__\u001b[0;34m(self, data, linkage, metric, method, axis, label, rotate)\u001b[0m\n\u001b[1;32m    493\u001b[0m \u001b[0;34m\u001b[0m\u001b[0m\n\u001b[1;32m    494\u001b[0m         \u001b[0;32mif\u001b[0m \u001b[0mlinkage\u001b[0m \u001b[0;32mis\u001b[0m \u001b[0;32mNone\u001b[0m\u001b[0;34m:\u001b[0m\u001b[0;34m\u001b[0m\u001b[0;34m\u001b[0m\u001b[0m\n\u001b[0;32m--> 495\u001b[0;31m             \u001b[0mself\u001b[0m\u001b[0;34m.\u001b[0m\u001b[0mlinkage\u001b[0m \u001b[0;34m=\u001b[0m \u001b[0mself\u001b[0m\u001b[0;34m.\u001b[0m\u001b[0mcalculated_linkage\u001b[0m\u001b[0;34m\u001b[0m\u001b[0;34m\u001b[0m\u001b[0m\n\u001b[0m\u001b[1;32m    496\u001b[0m         \u001b[0;32melse\u001b[0m\u001b[0;34m:\u001b[0m\u001b[0;34m\u001b[0m\u001b[0;34m\u001b[0m\u001b[0m\n\u001b[1;32m    497\u001b[0m             \u001b[0mself\u001b[0m\u001b[0;34m.\u001b[0m\u001b[0mlinkage\u001b[0m \u001b[0;34m=\u001b[0m \u001b[0mlinkage\u001b[0m\u001b[0;34m\u001b[0m\u001b[0;34m\u001b[0m\u001b[0m\n",
            "\u001b[0;32m/usr/local/lib/python3.10/dist-packages/seaborn/matrix.py\u001b[0m in \u001b[0;36mcalculated_linkage\u001b[0;34m(self)\u001b[0m\n\u001b[1;32m    553\u001b[0m \u001b[0;34m\u001b[0m\u001b[0m\n\u001b[1;32m    554\u001b[0m         \u001b[0;32mtry\u001b[0m\u001b[0;34m:\u001b[0m\u001b[0;34m\u001b[0m\u001b[0;34m\u001b[0m\u001b[0m\n\u001b[0;32m--> 555\u001b[0;31m             \u001b[0;32mreturn\u001b[0m \u001b[0mself\u001b[0m\u001b[0;34m.\u001b[0m\u001b[0m_calculate_linkage_fastcluster\u001b[0m\u001b[0;34m(\u001b[0m\u001b[0;34m)\u001b[0m\u001b[0;34m\u001b[0m\u001b[0;34m\u001b[0m\u001b[0m\n\u001b[0m\u001b[1;32m    556\u001b[0m         \u001b[0;32mexcept\u001b[0m \u001b[0mImportError\u001b[0m\u001b[0;34m:\u001b[0m\u001b[0;34m\u001b[0m\u001b[0;34m\u001b[0m\u001b[0m\n\u001b[1;32m    557\u001b[0m             \u001b[0;32mif\u001b[0m \u001b[0mnp\u001b[0m\u001b[0;34m.\u001b[0m\u001b[0mprod\u001b[0m\u001b[0;34m(\u001b[0m\u001b[0mself\u001b[0m\u001b[0;34m.\u001b[0m\u001b[0mshape\u001b[0m\u001b[0;34m)\u001b[0m \u001b[0;34m>=\u001b[0m \u001b[0;36m10000\u001b[0m\u001b[0;34m:\u001b[0m\u001b[0;34m\u001b[0m\u001b[0;34m\u001b[0m\u001b[0m\n",
            "\u001b[0;32m/usr/local/lib/python3.10/dist-packages/seaborn/matrix.py\u001b[0m in \u001b[0;36m_calculate_linkage_fastcluster\u001b[0;34m(self)\u001b[0m\n\u001b[1;32m    545\u001b[0m                                               metric=self.metric)\n\u001b[1;32m    546\u001b[0m         \u001b[0;32melse\u001b[0m\u001b[0;34m:\u001b[0m\u001b[0;34m\u001b[0m\u001b[0;34m\u001b[0m\u001b[0m\n\u001b[0;32m--> 547\u001b[0;31m             linkage = fastcluster.linkage(self.array, method=self.method,\n\u001b[0m\u001b[1;32m    548\u001b[0m                                           metric=self.metric)\n\u001b[1;32m    549\u001b[0m             \u001b[0;32mreturn\u001b[0m \u001b[0mlinkage\u001b[0m\u001b[0;34m\u001b[0m\u001b[0;34m\u001b[0m\u001b[0m\n",
            "\u001b[0;32m/usr/local/lib/python3.10/dist-packages/fastcluster.py\u001b[0m in \u001b[0;36mlinkage\u001b[0;34m(X, method, metric, preserve_input)\u001b[0m\n\u001b[1;32m    241\u001b[0m         \u001b[0;32massert\u001b[0m \u001b[0mX\u001b[0m\u001b[0;34m.\u001b[0m\u001b[0mndim\u001b[0m\u001b[0;34m==\u001b[0m\u001b[0;36m2\u001b[0m\u001b[0;34m\u001b[0m\u001b[0;34m\u001b[0m\u001b[0m\n\u001b[1;32m    242\u001b[0m         \u001b[0mN\u001b[0m \u001b[0;34m=\u001b[0m \u001b[0mlen\u001b[0m\u001b[0;34m(\u001b[0m\u001b[0mX\u001b[0m\u001b[0;34m)\u001b[0m\u001b[0;34m\u001b[0m\u001b[0;34m\u001b[0m\u001b[0m\n\u001b[0;32m--> 243\u001b[0;31m         \u001b[0mX\u001b[0m \u001b[0;34m=\u001b[0m \u001b[0mpdist\u001b[0m\u001b[0;34m(\u001b[0m\u001b[0mX\u001b[0m\u001b[0;34m,\u001b[0m \u001b[0mmetric\u001b[0m\u001b[0;34m=\u001b[0m\u001b[0mmetric\u001b[0m\u001b[0;34m)\u001b[0m\u001b[0;34m\u001b[0m\u001b[0;34m\u001b[0m\u001b[0m\n\u001b[0m\u001b[1;32m    244\u001b[0m         \u001b[0mX\u001b[0m \u001b[0;34m=\u001b[0m \u001b[0marray\u001b[0m\u001b[0;34m(\u001b[0m\u001b[0mX\u001b[0m\u001b[0;34m,\u001b[0m \u001b[0mdtype\u001b[0m\u001b[0;34m=\u001b[0m\u001b[0mdouble\u001b[0m\u001b[0;34m,\u001b[0m \u001b[0mcopy\u001b[0m\u001b[0;34m=\u001b[0m\u001b[0;32mFalse\u001b[0m\u001b[0;34m,\u001b[0m \u001b[0morder\u001b[0m\u001b[0;34m=\u001b[0m\u001b[0;34m'C'\u001b[0m\u001b[0;34m,\u001b[0m \u001b[0msubok\u001b[0m\u001b[0;34m=\u001b[0m\u001b[0;32mTrue\u001b[0m\u001b[0;34m)\u001b[0m\u001b[0;34m\u001b[0m\u001b[0;34m\u001b[0m\u001b[0m\n\u001b[1;32m    245\u001b[0m     \u001b[0mZ\u001b[0m \u001b[0;34m=\u001b[0m \u001b[0mempty\u001b[0m\u001b[0;34m(\u001b[0m\u001b[0;34m(\u001b[0m\u001b[0mN\u001b[0m\u001b[0;34m-\u001b[0m\u001b[0;36m1\u001b[0m\u001b[0;34m,\u001b[0m\u001b[0;36m4\u001b[0m\u001b[0;34m)\u001b[0m\u001b[0;34m)\u001b[0m\u001b[0;34m\u001b[0m\u001b[0;34m\u001b[0m\u001b[0m\n",
            "\u001b[0;32m/usr/local/lib/python3.10/dist-packages/scipy/spatial/distance.py\u001b[0m in \u001b[0;36mpdist\u001b[0;34m(X, metric, out, **kwargs)\u001b[0m\n\u001b[1;32m   2218\u001b[0m             \u001b[0mpdist_fn\u001b[0m \u001b[0;34m=\u001b[0m \u001b[0mmetric_info\u001b[0m\u001b[0;34m.\u001b[0m\u001b[0mpdist_func\u001b[0m\u001b[0;34m\u001b[0m\u001b[0;34m\u001b[0m\u001b[0m\n\u001b[1;32m   2219\u001b[0m             \u001b[0m_extra_windows_error_checks\u001b[0m\u001b[0;34m(\u001b[0m\u001b[0mX\u001b[0m\u001b[0;34m,\u001b[0m \u001b[0mout\u001b[0m\u001b[0;34m,\u001b[0m \u001b[0;34m(\u001b[0m\u001b[0mm\u001b[0m \u001b[0;34m*\u001b[0m \u001b[0;34m(\u001b[0m\u001b[0mm\u001b[0m \u001b[0;34m-\u001b[0m \u001b[0;36m1\u001b[0m\u001b[0;34m)\u001b[0m \u001b[0;34m/\u001b[0m \u001b[0;36m2\u001b[0m\u001b[0;34m,\u001b[0m\u001b[0;34m)\u001b[0m\u001b[0;34m,\u001b[0m \u001b[0;34m**\u001b[0m\u001b[0mkwargs\u001b[0m\u001b[0;34m)\u001b[0m\u001b[0;34m\u001b[0m\u001b[0;34m\u001b[0m\u001b[0m\n\u001b[0;32m-> 2220\u001b[0;31m             \u001b[0;32mreturn\u001b[0m \u001b[0mpdist_fn\u001b[0m\u001b[0;34m(\u001b[0m\u001b[0mX\u001b[0m\u001b[0;34m,\u001b[0m \u001b[0mout\u001b[0m\u001b[0;34m=\u001b[0m\u001b[0mout\u001b[0m\u001b[0;34m,\u001b[0m \u001b[0;34m**\u001b[0m\u001b[0mkwargs\u001b[0m\u001b[0;34m)\u001b[0m\u001b[0;34m\u001b[0m\u001b[0;34m\u001b[0m\u001b[0m\n\u001b[0m\u001b[1;32m   2221\u001b[0m         \u001b[0;32melif\u001b[0m \u001b[0mmstr\u001b[0m\u001b[0;34m.\u001b[0m\u001b[0mstartswith\u001b[0m\u001b[0;34m(\u001b[0m\u001b[0;34m\"test_\"\u001b[0m\u001b[0;34m)\u001b[0m\u001b[0;34m:\u001b[0m\u001b[0;34m\u001b[0m\u001b[0;34m\u001b[0m\u001b[0m\n\u001b[1;32m   2222\u001b[0m             \u001b[0mmetric_info\u001b[0m \u001b[0;34m=\u001b[0m \u001b[0m_TEST_METRICS\u001b[0m\u001b[0;34m.\u001b[0m\u001b[0mget\u001b[0m\u001b[0;34m(\u001b[0m\u001b[0mmstr\u001b[0m\u001b[0;34m,\u001b[0m \u001b[0;32mNone\u001b[0m\u001b[0;34m)\u001b[0m\u001b[0;34m\u001b[0m\u001b[0;34m\u001b[0m\u001b[0m\n",
            "\u001b[0;31mKeyboardInterrupt\u001b[0m: "
          ]
        },
        {
          "data": {
            "image/png": "[encoded data removed]",
            "text/plain": [
              "<Figure size 1000x1000 with 4 Axes>"
            ]
          },
          "metadata": {},
          "output_type": "display_data"
        }
      ],
      "source": [
        "#Transposing data so each sample is a row and each gene expression value is a column\n",
        "merged_df_trans = merged_df_reorg.transpose()\n",
        "Sample_type_ex = merged_df_trans.iloc[3:, 89:-1]\n",
        "print(Sample_type_ex.head())\n",
        "\n",
        "heatmap = sns.clustermap(Sample_type_ex.apply(pd.to_numeric, errors='coerce'), cmap='viridis', standard_scale=1)\n",
        "plt.title('Heatmap and Clustering of Normalized Expression Data and Sample IDs')\n",
        "heatmap.ax_heatmap.set_xlabel(\"GENE Expression Number\")\n",
        "heatmap.ax_heatmap.set_ylabel(\"Sample ID Number\")\n",
        "\n",
        "#might have to change file path\n",
        "output_local = '/content/drive/MyDrive/20440_Project/Figures/'\n",
        "#Figure should be depositied into the figure folder of the google drive folder\n",
        "plt.savefig(output_local + 'heatmap.jpeg', format = 'jpeg')\n"
      ]
    },
    {
      "cell_type": "markdown",
      "metadata": {
        "id": "pDbviBSwlNJ6"
      },
      "source": [
        "### Determining the accuracy of the clustering with different n-clusters\n",
        "(Normal vs UC n = 2)\n",
        "\n",
        "(Normal vs inflammed n = 2)\n",
        "\n",
        "(Biopsy type n = 4)\n",
        "\n",
        "(Disease and biopsy type n = 14)\n",
        "\n",
        "##Calculating the silhouette coefficient, calinski harabasz score, and the davies bouldin score for each scenerio"
      ]
    },
    {
      "cell_type": "code",
      "execution_count": null,
      "metadata": {
        "id": "TOEcAMzBBQq7"
      },
      "outputs": [],
      "source": [
        "Sample_type_ex_numeric = Sample_type_ex.apply(pd.to_numeric, errors='coerce').dropna()\n"
      ]
    },
    {
      "cell_type": "code",
      "execution_count": null,
      "metadata": {
        "id": "u-0dz_hX7B5k"
      },
      "outputs": [],
      "source": [
        "#Clustering by disease + inflammation + location n = 14\n",
        "Sample_type_ex_numeric.columns = Sample_type_ex_numeric.columns.astype(str)\n",
        "kmeansA = KMeans(n_clusters=14)\n",
        "cluster_labelsA = kmeansA.fit_predict(Sample_type_ex_numeric)\n",
        "\n",
        "# Calculate silhouette score\n",
        "silhouette_avgA = silhouette_score(Sample_type_ex_numeric, cluster_labelsA)\n",
        "print(\"Silhouette Score (n=14):\", silhouette_avgA)\n",
        "\n",
        "# Calculate Calinski-Harabasz Index\n",
        "calinski_harabasz_score_valueA = calinski_harabasz_score(Sample_type_ex_numeric, cluster_labelsA)\n",
        "print(\"Calinski-Harabasz Index (n=14):\", calinski_harabasz_score_valueA)\n",
        "\n",
        "# Calculate Davies-Bouldin Index\n",
        "davies_bouldin_score_valueA = davies_bouldin_score(Sample_type_ex_numeric, cluster_labelsA)\n",
        "print(\"Davies-Bouldin Index (n=14):\", davies_bouldin_score_valueA)\n",
        "\n",
        "# Add cluster labels to your dataframe\n",
        "Sample_type_ex['Cluster_Labels_DIL'] = cluster_labelsA\n",
        "\n",
        "\n",
        "#Clustering by disease n = 2\n",
        "Sample_type_ex_numeric.columns = Sample_type_ex_numeric.columns.astype(str)\n",
        "kmeansB = KMeans(n_clusters=2)\n",
        "cluster_labelsB = kmeansB.fit_predict(Sample_type_ex_numeric)\n",
        "\n",
        "# Calculate silhouette score\n",
        "silhouette_avgB = silhouette_score(Sample_type_ex_numeric, cluster_labelsB)\n",
        "print(\"Silhouette Score (n=2):\", silhouette_avgB)\n",
        "\n",
        "# Calculate Calinski-Harabasz Index\n",
        "calinski_harabasz_score_valueB = calinski_harabasz_score(Sample_type_ex_numeric, cluster_labelsB)\n",
        "print(\"Calinski-Harabasz Index (n=2):\", calinski_harabasz_score_valueB)\n",
        "\n",
        "# Calculate Davies-Bouldin Index\n",
        "davies_bouldin_score_valueB = davies_bouldin_score(Sample_type_ex_numeric, cluster_labelsB)\n",
        "print(\"Davies-Bouldin Index (n=2):\", davies_bouldin_score_valueB)\n",
        "\n",
        "# Add cluster labels to your dataframe\n",
        "Sample_type_ex['Cluster_Labels_D'] = cluster_labelsB\n",
        "\n",
        "\n",
        "#Clustering by location n= 4\n",
        "Sample_type_ex_numeric.columns = Sample_type_ex_numeric.columns.astype(str)\n",
        "kmeansC = KMeans(n_clusters=4)\n",
        "cluster_labelsC = kmeansC.fit_predict(Sample_type_ex_numeric)\n",
        "\n",
        "# Calculate silhouette score\n",
        "silhouette_avgC = silhouette_score(Sample_type_ex_numeric, cluster_labelsC)\n",
        "print(\"Silhouette Score (n=4):\", silhouette_avgC)\n",
        "\n",
        "# Calculate Calinski-Harabasz Index\n",
        "calinski_harabasz_score_valueC = calinski_harabasz_score(Sample_type_ex_numeric, cluster_labelsC)\n",
        "print(\"Calinski-Harabasz Index (n=4):\", calinski_harabasz_score_valueC)\n",
        "\n",
        "# Calculate Davies-Bouldin Index\n",
        "davies_bouldin_score_valueC = davies_bouldin_score(Sample_type_ex_numeric, cluster_labelsC)\n",
        "print(\"Davies-Bouldin Index (n=4):\", davies_bouldin_score_valueC)\n",
        "\n",
        "# Add cluster labels to your dataframe\n",
        "Sample_type_ex['Cluster_Labels_L'] = cluster_labelsC\n",
        "\n"
      ]
    },
    {
      "cell_type": "markdown",
      "metadata": {
        "id": "7SViI7E9pYuQ"
      },
      "source": [
        "##Calculating the ARI and accuracy of the clustering"
      ]
    },
    {
      "cell_type": "code",
      "execution_count": null,
      "metadata": {
        "id": "-jvw8pRMTX6i",
        "colab": {
          "base_uri": "https://localhost:8080/",
          "height": 216
        },
        "outputId": "f43e206a-109d-4438-c500-ccd7f7e94716"
      },
      "outputs": [
        {
          "output_type": "error",
          "ename": "NameError",
          "evalue": "name 'Sample_type_ex' is not defined",
          "traceback": [
            "\u001b[0;31m---------------------------------------------------------------------------\u001b[0m",
            "\u001b[0;31mNameError\u001b[0m                                 Traceback (most recent call last)",
            "\u001b[0;32m<ipython-input-2-fc192ea04c20>\u001b[0m in \u001b[0;36m<cell line: 3>\u001b[0;34m()\u001b[0m\n\u001b[1;32m      1\u001b[0m \u001b[0;31m#Rearranging and cleaning the data for analysis\u001b[0m\u001b[0;34m\u001b[0m\u001b[0;34m\u001b[0m\u001b[0m\n\u001b[1;32m      2\u001b[0m \u001b[0;34m\u001b[0m\u001b[0m\n\u001b[0;32m----> 3\u001b[0;31m \u001b[0msample_cluster_df\u001b[0m \u001b[0;34m=\u001b[0m \u001b[0mSample_type_ex\u001b[0m\u001b[0;34m.\u001b[0m\u001b[0miloc\u001b[0m\u001b[0;34m[\u001b[0m\u001b[0;34m:\u001b[0m\u001b[0;34m,\u001b[0m \u001b[0;34m[\u001b[0m\u001b[0;34m-\u001b[0m\u001b[0;36m3\u001b[0m\u001b[0;34m,\u001b[0m \u001b[0;34m-\u001b[0m\u001b[0;36m2\u001b[0m\u001b[0;34m,\u001b[0m \u001b[0;34m-\u001b[0m\u001b[0;36m1\u001b[0m\u001b[0;34m]\u001b[0m\u001b[0;34m]\u001b[0m\u001b[0;34m\u001b[0m\u001b[0;34m\u001b[0m\u001b[0m\n\u001b[0m\u001b[1;32m      4\u001b[0m \u001b[0;34m\u001b[0m\u001b[0m\n\u001b[1;32m      5\u001b[0m \u001b[0;31m# Convert index to a separate column\u001b[0m\u001b[0;34m\u001b[0m\u001b[0;34m\u001b[0m\u001b[0m\n",
            "\u001b[0;31mNameError\u001b[0m: name 'Sample_type_ex' is not defined"
          ]
        }
      ],
      "source": [
        "#Rearranging and cleaning the data for analysis\n",
        "\n",
        "sample_cluster_df = Sample_type_ex.iloc[:, [-3, -2, -1]]\n",
        "\n",
        "# Convert index to a separate column\n",
        "sample_cluster_df['Index_Column'] = sample_cluster_df.index\n",
        "\n",
        "# Split the index column by spaces and expand it into separate columns\n",
        "split_columns = sample_cluster_df['Index_Column'].str.split(expand=True)\n",
        "\n",
        "# Assign the split columns to the DataFrame\n",
        "sample_cluster_df2 = pd.concat([sample_cluster_df, split_columns], axis=1)\n",
        "\n",
        "# Drop the temporary column if needed\n",
        "sample_cluster_df2.drop(columns=['Index_Column'], inplace=True)\n",
        "\n",
        "# Convert the last column to a separate column\n",
        "sample_cluster_df2['Last_Column'] = sample_cluster_df2.iloc[:, -1]\n",
        "\n",
        "# Split the last column by periods and expand it into separate columns\n",
        "split_columns = sample_cluster_df2['Last_Column'].str.split('.', expand=True)\n",
        "\n",
        "# Assign the split columns to the DataFrame\n",
        "sample_cluster_df3 = pd.concat([sample_cluster_df2, split_columns], axis=1)\n",
        "\n",
        "# Drop the temporary column if needed\n",
        "sample_cluster_df3.drop(columns=['Last_Column'], inplace=True)\n",
        "\n",
        "print(sample_cluster_df3)"
      ]
    },
    {
      "cell_type": "code",
      "execution_count": null,
      "metadata": {
        "id": "YLpt8tmWcMQu"
      },
      "outputs": [],
      "source": [
        "#Setting index to UC or Normal\n",
        "sample_cluster_df4 = sample_cluster_df3.set_index(sample_cluster_df3.columns[3])\n",
        "\n",
        "# Extracting \"Normal\" or \"UC\" from the index and setting it as the first column\n",
        "sample_cluster_df3['Biopsy_Type'] = sample_cluster_df3.index.str[0]\n",
        "\n",
        "# Reordering the columns\n",
        "sample_cluster_df3 = sample_cluster_df3[['Biopsy_Type'] + [col for col in sample_cluster_df3.columns if col != 'Biopsy_Type']]\n",
        "\n",
        "# Resetting the index\n",
        "sample_cluster_df3.reset_index(drop=True, inplace=True)\n",
        "sample_cluster_df4 = sample_cluster_df3.iloc[:, [0,2]]\n",
        "\n",
        "# Replace 'Normal' with 0 and 'UC' with 1 in the 'Biopsy_Type' column\n",
        "sample_cluster_df4['Biopsy_Type'] = sample_cluster_df4['Biopsy_Type'].replace({'N': 0, 'U': 1})\n",
        "\n",
        "# Get the ground truth labels\n",
        "ground_truth_labels = sample_cluster_df4['Biopsy_Type'].values\n",
        "\n",
        "# Assuming 'ground_truth_labels' are the true labels and 'cluster_labelsB' are the labels obtained from clustering\n",
        "ari = adjusted_rand_score(ground_truth_labels, cluster_labelsB)\n",
        "\n",
        "# Print the ARI score\n",
        "print(\"Adjusted Rand Index (ARI):\", ari)\n",
        "\n",
        "\n",
        "\n",
        "# Assuming 'ground_truth_labels' are the true labels and 'cluster_labels' are the labels obtained from clustering\n",
        "accuracy = accuracy_score(ground_truth_labels, cluster_labelsB)\n",
        "\n",
        "# Print the accuracy score\n",
        "print(\"Accuracy:\", accuracy)\n"
      ]
    },
    {
      "cell_type": "markdown",
      "source": [
        "## Generating volcano plot of differentially expressed genes of UC compared to healthy samples\n",
        "### Using a students t-test to calculate the p-values and adjusting using a bonferroni correction for multiple hypothesis testing. Calculating the fold change of UC/Healthy gene expression values. Final genes of interest must meet the requirements of having an adjusted p-value <0.05 and abs(log2(FC)) > 3"
      ],
      "metadata": {
        "id": "-lFdgYaicTKU"
      }
    },
    {
      "cell_type": "code",
      "execution_count": null,
      "metadata": {
        "id": "vxmTeyIUDM1J"
      },
      "outputs": [],
      "source": [
        "# Determine the differentially expressed genes between healthy and UC\n",
        "merged_df_trans2 = merged_df_trans.iloc[:, 89:-1]\n",
        "merged_df_trans2.index = merged_df_trans2.index.str.split().str[0]\n",
        "print(merged_df_trans2.head())\n",
        "# Define the index names for healthy and disease samples\n",
        "Healthy = 'Normal'\n",
        "Disease = 'UC'\n",
        "\n",
        "# Selecting rows\n",
        "Healthy_rows = merged_df_trans2[merged_df_trans2.index == Healthy]\n",
        "UC_rows = merged_df_trans2[merged_df_trans2.index == Disease]\n",
        "\n",
        "# Initialize an empty DataFrame to store p-values\n",
        "p_values_df = pd.DataFrame(columns=merged_df_trans2.columns)\n",
        "\n",
        "# Perform t-test for each gene expression\n",
        "for column in merged_df_trans2.columns:\n",
        "    # Convert data to numeric to handle missing values\n",
        "    Healthy_column_numeric = pd.to_numeric(Healthy_rows[column], errors='coerce')\n",
        "    UC_column_numeric = pd.to_numeric(UC_rows[column], errors='coerce')\n",
        "\n",
        "    # Drop missing values\n",
        "    Healthy_column_numeric = Healthy_column_numeric.dropna()\n",
        "    UC_column_numeric = UC_column_numeric.dropna()\n",
        "\n",
        "    # Perform t-test if both healthy and disease samples exist\n",
        "    if not (Healthy_column_numeric.empty or UC_column_numeric.empty):\n",
        "        t_stat, p_val = ttest_ind(UC_column_numeric, Healthy_column_numeric)\n",
        "        p_values_df[column] = [p_val]  # Add p-value for each gene to the DataFrame\n",
        "\n",
        "# Bonferroni correction for multiple comparisons\n",
        "p_values_corrected = p_values_df.apply(lambda x: x * len(p_values_df.columns), axis=1)\n",
        "\n",
        "# Concatenate the DataFrame containing p-values to the original DataFrame\n",
        "merged_df_trans2_with_pvalues = pd.concat([merged_df_trans2, p_values_corrected], ignore_index=True)\n",
        "\n",
        "# Print the DataFrame with p-values added as the last row\n",
        "print(merged_df_trans2_with_pvalues.head)\n"
      ]
    },
    {
      "cell_type": "code",
      "execution_count": null,
      "metadata": {
        "id": "sGnCR0dbGko4",
        "colab": {
          "base_uri": "https://localhost:8080/",
          "height": 162
        },
        "outputId": "658dbd4c-2166-44b8-932e-39cf28afe1bc"
      },
      "outputs": [
        {
          "output_type": "error",
          "ename": "NameError",
          "evalue": "name 'merged_df_trans2' is not defined",
          "traceback": [
            "\u001b[0;31m---------------------------------------------------------------------------\u001b[0m",
            "\u001b[0;31mNameError\u001b[0m                                 Traceback (most recent call last)",
            "\u001b[0;32m<ipython-input-3-7a4d8d0d9859>\u001b[0m in \u001b[0;36m<cell line: 1>\u001b[0;34m()\u001b[0m\n\u001b[0;32m----> 1\u001b[0;31m \u001b[0mprint\u001b[0m\u001b[0;34m(\u001b[0m\u001b[0mmerged_df_trans2\u001b[0m\u001b[0;34m)\u001b[0m\u001b[0;34m\u001b[0m\u001b[0;34m\u001b[0m\u001b[0m\n\u001b[0m\u001b[1;32m      2\u001b[0m \u001b[0mprint\u001b[0m\u001b[0;34m(\u001b[0m\u001b[0mmerged_df_trans2_with_pvalues\u001b[0m\u001b[0;34m)\u001b[0m\u001b[0;34m\u001b[0m\u001b[0;34m\u001b[0m\u001b[0m\n",
            "\u001b[0;31mNameError\u001b[0m: name 'merged_df_trans2' is not defined"
          ]
        }
      ],
      "source": [
        "print(merged_df_trans2)\n",
        "print(merged_df_trans2_with_pvalues)"
      ]
    },
    {
      "cell_type": "code",
      "execution_count": null,
      "metadata": {
        "id": "K-z8RydPCCFN"
      },
      "outputs": [],
      "source": [
        "# Define the index names for healthy and disease samples\n",
        "Healthy = 'Normal'\n",
        "Disease = 'UC'\n",
        "\n",
        "# Selecting rows\n",
        "Healthy_rows = merged_df_trans2[merged_df_trans2.index == Healthy]\n",
        "UC_rows = merged_df_trans2[merged_df_trans2.index == Disease]\n",
        "\n",
        "# Initialize an empty DataFrame to store p-values\n",
        "FC = pd.DataFrame(columns=merged_df_trans2.columns)\n",
        "\n",
        "# Perform t-test for each gene expression\n",
        "for column in merged_df_trans2.columns:\n",
        "    # Convert data to numeric to handle missing values\n",
        "    Healthy_column_numeric = pd.to_numeric(Healthy_rows[column], errors='coerce')\n",
        "    UC_column_numeric = pd.to_numeric(UC_rows[column], errors='coerce')\n",
        "\n",
        "    # Drop missing values\n",
        "    Healthy_column_numeric = Healthy_column_numeric.dropna()\n",
        "    UC_column_numeric = UC_column_numeric.dropna()\n",
        "\n",
        "    # Calculate mean expression in healthy and disease samples\n",
        "    mean_expression_healthy = Healthy_column_numeric.mean()\n",
        "    mean_expression_UC = UC_column_numeric.mean()\n",
        "\n",
        "    # Calculate fold change\n",
        "    fold_change = mean_expression_UC / mean_expression_healthy\n",
        "    # Add fold change to the DataFrame\n",
        "    FC[column] = [fold_change]\n",
        "\n",
        "\n",
        "# Concatenate the DataFrame containing p-values to the original DataFrame\n",
        "EX_pval_FC = pd.concat([merged_df_trans2_with_pvalues, FC], ignore_index=True)\n",
        "\n",
        "# Print the DataFrame with p-values added as the last row\n",
        "print(EX_pval_FC)\n"
      ]
    },
    {
      "cell_type": "code",
      "execution_count": null,
      "metadata": {
        "id": "jgYBmnrJJMdQ"
      },
      "outputs": [],
      "source": [
        "#Transforming all gene p-vals and FC\n",
        "p_vals = EX_pval_FC.iloc[-2,:]\n",
        "Fold_changes = EX_pval_FC.iloc[-1,:]\n",
        "\n",
        "# Convert p-values to numeric (in case they are not already)\n",
        "p_vals = pd.to_numeric(p_vals, errors='coerce')\n",
        "# Take the logarithm of p-values (base 10) for better visualization\n",
        "log10pval_all = -np.log10(p_vals)\n",
        "\n",
        "# Convert p-values to numeric (in case they are not already)\n",
        "Fold_changes = pd.to_numeric(Fold_changes, errors='coerce')\n",
        "# Take the logarithm of p-values (base 10) for better visualization\n",
        "log2FC_all = -np.log2(Fold_changes)\n"
      ]
    },
    {
      "cell_type": "code",
      "execution_count": null,
      "metadata": {
        "id": "bnnrUKfyDXyR"
      },
      "outputs": [],
      "source": [
        "# Filter only columns with p-values less than 0.05\n",
        "significant_genes = EX_pval_FC.loc[:, EX_pval_FC.loc[205] < 0.05]\n",
        "\n",
        "# Filter only columns with absulte FC values exceding 1\n",
        "significant_genes2 = significant_genes.loc[:, (abs(significant_genes.loc[206]>1))]\n",
        "\n",
        "#Transforming genes with p val < 0.05 and FC to overlay on volcano plot\n",
        "p_vals = significant_genes2.iloc[-2,:]\n",
        "Fold_changes = significant_genes2.iloc[-1,:]\n",
        "\n",
        "# Convert p-values to numeric (in case they are not already)\n",
        "p_vals = pd.to_numeric(p_vals, errors='coerce')\n",
        "# Take the logarithm of p-values (base 10) for better visualization\n",
        "log10pval = -np.log10(p_vals)\n",
        "\n",
        "# Convert p-values to numeric (in case they are not already)\n",
        "Fold_changes = pd.to_numeric(Fold_changes, errors='coerce')\n",
        "# Take the logarithm of p-values (base 10) for better visualization\n",
        "log2FC = -np.log2(Fold_changes)"
      ]
    },
    {
      "cell_type": "code",
      "execution_count": null,
      "metadata": {
        "id": "vMBJcb9DKSCu"
      },
      "outputs": [],
      "source": [
        "#plotting volcano plot\n",
        "#Lines are displaying p-val and FC thresholds\n",
        "#plt.scatter(log2FC, log10pval, alpha = 1, color = 'blue', label = 'significant')\n",
        "VolcanoPlot = plt.scatter(log2FC_all, log10pval_all, alpha = 0.5, color = 'blue', label = 'all' )\n",
        "plt.xlabel(\"log2(Fold Change) [UC/Healthy]\")\n",
        "plt.ylabel(\"-log(p-value)\")\n",
        "plt.title(\"Volcano plot differentially expressed genes between UC and Healthy \")\n",
        "plt.axhline(-np.log10(0.05), color='black', linestyle='--', linewidth=1)  # Add a horizontal line for significance threshold\n",
        "plt.axvline(3, color='green', linestyle='--', linewidth=1)  # Add a vertical line for fold change threshold\n",
        "plt.axvline(-3, color='green', linestyle='--', linewidth=1)  # Add a vertical line for fold change threshold\n",
        "\n",
        "plt.savefig(output_local + 'VolcanoPlot', format = 'jpeg')\n"
      ]
    },
    {
      "cell_type": "code",
      "execution_count": null,
      "metadata": {
        "id": "RLODRn0EFfqU"
      },
      "outputs": [],
      "source": [
        "# Filter only columns with p-values less than 0.05\n",
        "significant_genes = EX_pval_FC.loc[:, EX_pval_FC.loc[205] < 0.05]\n",
        "\n",
        "# Filter only columns with absolute FC values exceeding 1\n",
        "significant_genes2 = significant_genes.loc[:, (abs(significant_genes.loc[206]) > 3)]\n",
        "\n",
        "# Iterate over columns in the DataFrame\n",
        "for column in significant_genes2.columns:\n",
        "    # Check if the absolute FC value is within the desired range\n",
        "    if abs(significant_genes2[column].loc[206]) <= 3:\n",
        "        # Drop the column if the condition is not met\n",
        "        significant_genes2.drop(column, axis=1, inplace=True)\n",
        "\n",
        "GOI = significant_genes2.iloc[[1,205,206],:]\n",
        "print(GOI)"
      ]
    },
    {
      "cell_type": "code",
      "execution_count": null,
      "metadata": {
        "id": "VOQuT8uYN_PY",
        "colab": {
          "base_uri": "https://localhost:8080/",
          "height": 198
        },
        "outputId": "b5c0ccad-a5f1-4fe9-872f-a8ec4cb39be8"
      },
      "outputs": [
        {
          "output_type": "error",
          "ename": "NameError",
          "evalue": "name 'GOI' is not defined",
          "traceback": [
            "\u001b[0;31m---------------------------------------------------------------------------\u001b[0m",
            "\u001b[0;31mNameError\u001b[0m                                 Traceback (most recent call last)",
            "\u001b[0;32m<ipython-input-1-843b1754b089>\u001b[0m in \u001b[0;36m<cell line: 1>\u001b[0;34m()\u001b[0m\n\u001b[0;32m----> 1\u001b[0;31m \u001b[0mGOI2\u001b[0m \u001b[0;34m=\u001b[0m \u001b[0mGOI\u001b[0m\u001b[0;34m.\u001b[0m\u001b[0mtranspose\u001b[0m\u001b[0;34m(\u001b[0m\u001b[0;34m)\u001b[0m\u001b[0;34m\u001b[0m\u001b[0;34m\u001b[0m\u001b[0m\n\u001b[0m\u001b[1;32m      2\u001b[0m \u001b[0mprint\u001b[0m\u001b[0;34m(\u001b[0m\u001b[0;34m\"Total number of Genes of Interest is\"\u001b[0m\u001b[0;34m,\u001b[0m\u001b[0mlen\u001b[0m\u001b[0;34m(\u001b[0m\u001b[0mGOI2\u001b[0m\u001b[0;34m)\u001b[0m\u001b[0;34m)\u001b[0m\u001b[0;34m\u001b[0m\u001b[0;34m\u001b[0m\u001b[0m\n\u001b[1;32m      3\u001b[0m \u001b[0mGOI2_sort\u001b[0m \u001b[0;34m=\u001b[0m \u001b[0mGOI2\u001b[0m\u001b[0;34m.\u001b[0m\u001b[0msort_values\u001b[0m\u001b[0;34m(\u001b[0m\u001b[0mby\u001b[0m\u001b[0;34m=\u001b[0m\u001b[0mGOI2\u001b[0m\u001b[0;34m.\u001b[0m\u001b[0mcolumns\u001b[0m\u001b[0;34m[\u001b[0m\u001b[0;36m2\u001b[0m\u001b[0;34m]\u001b[0m\u001b[0;34m,\u001b[0m \u001b[0mascending\u001b[0m \u001b[0;34m=\u001b[0m \u001b[0;32mFalse\u001b[0m\u001b[0;34m)\u001b[0m\u001b[0;34m\u001b[0m\u001b[0;34m\u001b[0m\u001b[0m\n\u001b[1;32m      4\u001b[0m \u001b[0mprint\u001b[0m\u001b[0;34m(\u001b[0m\u001b[0mGOI2_sort\u001b[0m\u001b[0;34m.\u001b[0m\u001b[0miloc\u001b[0m\u001b[0;34m[\u001b[0m\u001b[0;36m0\u001b[0m\u001b[0;34m:\u001b[0m\u001b[0;36m10\u001b[0m\u001b[0;34m,\u001b[0m\u001b[0;34m:\u001b[0m\u001b[0;34m]\u001b[0m\u001b[0;34m)\u001b[0m\u001b[0;34m\u001b[0m\u001b[0;34m\u001b[0m\u001b[0m\n",
            "\u001b[0;31mNameError\u001b[0m: name 'GOI' is not defined"
          ]
        }
      ],
      "source": [
        "GOI2 = GOI.transpose()\n",
        "print(\"Total number of Genes of Interest is\",len(GOI2))\n",
        "GOI2_sort = GOI2.sort_values(by=GOI2.columns[2], ascending = False)\n",
        "print(GOI2_sort.iloc[0:10,:])"
      ]
    }
  ],
  "metadata": {
    "colab": {
      "provenance": []
    },
    "kernelspec": {
      "display_name": "Python 3",
      "name": "python3"
    },
    "language_info": {
      "name": "python"
    }
  },
  "nbformat": 4,
  "nbformat_minor": 0
}